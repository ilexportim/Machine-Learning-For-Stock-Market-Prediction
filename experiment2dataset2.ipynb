{
  "nbformat": 4,
  "nbformat_minor": 0,
  "metadata": {
    "colab": {
      "provenance": [],
      "include_colab_link": true
    },
    "kernelspec": {
      "name": "python3",
      "display_name": "Python 3"
    },
    "language_info": {
      "name": "python"
    }
  },
  "cells": [
    {
      "cell_type": "markdown",
      "metadata": {
        "id": "view-in-github",
        "colab_type": "text"
      },
      "source": [
        "<a href=\"https://colab.research.google.com/github/oulbacha-ilyas/Machine-Learning-For-Stock-Market-Prediction/blob/main/experiment2dataset2.ipynb\" target=\"_parent\"><img src=\"https://colab.research.google.com/assets/colab-badge.svg\" alt=\"Open In Colab\"/></a>"
      ]
    },
    {
      "cell_type": "markdown",
      "source": [
        "# 1) Data Preprocessing"
      ],
      "metadata": {
        "id": "0m7KFwgCB-8_"
      }
    },
    {
      "cell_type": "code",
      "execution_count": null,
      "metadata": {
        "colab": {
          "base_uri": "https://localhost:8080/",
          "height": 300
        },
        "id": "0K3NZdkwmoQv",
        "outputId": "ae4a1e50-b233-4f84-9148-ec261194f159"
      },
      "outputs": [
        {
          "output_type": "execute_result",
          "data": {
            "text/plain": [
              "          Timestamp         Open         High          Low        Close  \\\n",
              "count  2.076000e+03  2076.000000  2076.000000  2076.000000  2076.000000   \n",
              "mean   1.467614e+09   117.363415   118.699432   115.993733   117.410400   \n",
              "std    7.515920e+07    61.512531    62.170010    60.892664    61.595139   \n",
              "min    1.337299e+09    18.080000    18.270000    17.549999    17.730000   \n",
              "25%    1.402596e+09    67.537501    68.149998    66.795000    67.559999   \n",
              "50%    1.467720e+09   117.795002   118.680000   116.849998   117.765000   \n",
              "75%    1.532585e+09   172.632500   174.255004   170.722496   172.502499   \n",
              "max    1.597709e+09   268.040009   278.890015   263.429993   268.440002   \n",
              "\n",
              "         Adj Close        Volume  \n",
              "count  2076.000000  2.076000e+03  \n",
              "mean    117.410400  3.265524e+07  \n",
              "std      61.595139  2.906292e+07  \n",
              "min      17.730000  5.913100e+06  \n",
              "25%      67.559999  1.621918e+07  \n",
              "50%     117.765000  2.373235e+07  \n",
              "75%     172.502499  3.889940e+07  \n",
              "max     268.440002  5.735764e+08  "
            ],
            "text/html": [
              "\n",
              "  <div id=\"df-c6dca762-a7eb-43cc-b2c2-0b1d916d744f\">\n",
              "    <div class=\"colab-df-container\">\n",
              "      <div>\n",
              "<style scoped>\n",
              "    .dataframe tbody tr th:only-of-type {\n",
              "        vertical-align: middle;\n",
              "    }\n",
              "\n",
              "    .dataframe tbody tr th {\n",
              "        vertical-align: top;\n",
              "    }\n",
              "\n",
              "    .dataframe thead th {\n",
              "        text-align: right;\n",
              "    }\n",
              "</style>\n",
              "<table border=\"1\" class=\"dataframe\">\n",
              "  <thead>\n",
              "    <tr style=\"text-align: right;\">\n",
              "      <th></th>\n",
              "      <th>Timestamp</th>\n",
              "      <th>Open</th>\n",
              "      <th>High</th>\n",
              "      <th>Low</th>\n",
              "      <th>Close</th>\n",
              "      <th>Adj Close</th>\n",
              "      <th>Volume</th>\n",
              "    </tr>\n",
              "  </thead>\n",
              "  <tbody>\n",
              "    <tr>\n",
              "      <th>count</th>\n",
              "      <td>2.076000e+03</td>\n",
              "      <td>2076.000000</td>\n",
              "      <td>2076.000000</td>\n",
              "      <td>2076.000000</td>\n",
              "      <td>2076.000000</td>\n",
              "      <td>2076.000000</td>\n",
              "      <td>2.076000e+03</td>\n",
              "    </tr>\n",
              "    <tr>\n",
              "      <th>mean</th>\n",
              "      <td>1.467614e+09</td>\n",
              "      <td>117.363415</td>\n",
              "      <td>118.699432</td>\n",
              "      <td>115.993733</td>\n",
              "      <td>117.410400</td>\n",
              "      <td>117.410400</td>\n",
              "      <td>3.265524e+07</td>\n",
              "    </tr>\n",
              "    <tr>\n",
              "      <th>std</th>\n",
              "      <td>7.515920e+07</td>\n",
              "      <td>61.512531</td>\n",
              "      <td>62.170010</td>\n",
              "      <td>60.892664</td>\n",
              "      <td>61.595139</td>\n",
              "      <td>61.595139</td>\n",
              "      <td>2.906292e+07</td>\n",
              "    </tr>\n",
              "    <tr>\n",
              "      <th>min</th>\n",
              "      <td>1.337299e+09</td>\n",
              "      <td>18.080000</td>\n",
              "      <td>18.270000</td>\n",
              "      <td>17.549999</td>\n",
              "      <td>17.730000</td>\n",
              "      <td>17.730000</td>\n",
              "      <td>5.913100e+06</td>\n",
              "    </tr>\n",
              "    <tr>\n",
              "      <th>25%</th>\n",
              "      <td>1.402596e+09</td>\n",
              "      <td>67.537501</td>\n",
              "      <td>68.149998</td>\n",
              "      <td>66.795000</td>\n",
              "      <td>67.559999</td>\n",
              "      <td>67.559999</td>\n",
              "      <td>1.621918e+07</td>\n",
              "    </tr>\n",
              "    <tr>\n",
              "      <th>50%</th>\n",
              "      <td>1.467720e+09</td>\n",
              "      <td>117.795002</td>\n",
              "      <td>118.680000</td>\n",
              "      <td>116.849998</td>\n",
              "      <td>117.765000</td>\n",
              "      <td>117.765000</td>\n",
              "      <td>2.373235e+07</td>\n",
              "    </tr>\n",
              "    <tr>\n",
              "      <th>75%</th>\n",
              "      <td>1.532585e+09</td>\n",
              "      <td>172.632500</td>\n",
              "      <td>174.255004</td>\n",
              "      <td>170.722496</td>\n",
              "      <td>172.502499</td>\n",
              "      <td>172.502499</td>\n",
              "      <td>3.889940e+07</td>\n",
              "    </tr>\n",
              "    <tr>\n",
              "      <th>max</th>\n",
              "      <td>1.597709e+09</td>\n",
              "      <td>268.040009</td>\n",
              "      <td>278.890015</td>\n",
              "      <td>263.429993</td>\n",
              "      <td>268.440002</td>\n",
              "      <td>268.440002</td>\n",
              "      <td>5.735764e+08</td>\n",
              "    </tr>\n",
              "  </tbody>\n",
              "</table>\n",
              "</div>\n",
              "      <button class=\"colab-df-convert\" onclick=\"convertToInteractive('df-c6dca762-a7eb-43cc-b2c2-0b1d916d744f')\"\n",
              "              title=\"Convert this dataframe to an interactive table.\"\n",
              "              style=\"display:none;\">\n",
              "        \n",
              "  <svg xmlns=\"http://www.w3.org/2000/svg\" height=\"24px\"viewBox=\"0 0 24 24\"\n",
              "       width=\"24px\">\n",
              "    <path d=\"M0 0h24v24H0V0z\" fill=\"none\"/>\n",
              "    <path d=\"M18.56 5.44l.94 2.06.94-2.06 2.06-.94-2.06-.94-.94-2.06-.94 2.06-2.06.94zm-11 1L8.5 8.5l.94-2.06 2.06-.94-2.06-.94L8.5 2.5l-.94 2.06-2.06.94zm10 10l.94 2.06.94-2.06 2.06-.94-2.06-.94-.94-2.06-.94 2.06-2.06.94z\"/><path d=\"M17.41 7.96l-1.37-1.37c-.4-.4-.92-.59-1.43-.59-.52 0-1.04.2-1.43.59L10.3 9.45l-7.72 7.72c-.78.78-.78 2.05 0 2.83L4 21.41c.39.39.9.59 1.41.59.51 0 1.02-.2 1.41-.59l7.78-7.78 2.81-2.81c.8-.78.8-2.07 0-2.86zM5.41 20L4 18.59l7.72-7.72 1.47 1.35L5.41 20z\"/>\n",
              "  </svg>\n",
              "      </button>\n",
              "      \n",
              "  <style>\n",
              "    .colab-df-container {\n",
              "      display:flex;\n",
              "      flex-wrap:wrap;\n",
              "      gap: 12px;\n",
              "    }\n",
              "\n",
              "    .colab-df-convert {\n",
              "      background-color: #E8F0FE;\n",
              "      border: none;\n",
              "      border-radius: 50%;\n",
              "      cursor: pointer;\n",
              "      display: none;\n",
              "      fill: #1967D2;\n",
              "      height: 32px;\n",
              "      padding: 0 0 0 0;\n",
              "      width: 32px;\n",
              "    }\n",
              "\n",
              "    .colab-df-convert:hover {\n",
              "      background-color: #E2EBFA;\n",
              "      box-shadow: 0px 1px 2px rgba(60, 64, 67, 0.3), 0px 1px 3px 1px rgba(60, 64, 67, 0.15);\n",
              "      fill: #174EA6;\n",
              "    }\n",
              "\n",
              "    [theme=dark] .colab-df-convert {\n",
              "      background-color: #3B4455;\n",
              "      fill: #D2E3FC;\n",
              "    }\n",
              "\n",
              "    [theme=dark] .colab-df-convert:hover {\n",
              "      background-color: #434B5C;\n",
              "      box-shadow: 0px 1px 3px 1px rgba(0, 0, 0, 0.15);\n",
              "      filter: drop-shadow(0px 1px 2px rgba(0, 0, 0, 0.3));\n",
              "      fill: #FFFFFF;\n",
              "    }\n",
              "  </style>\n",
              "\n",
              "      <script>\n",
              "        const buttonEl =\n",
              "          document.querySelector('#df-c6dca762-a7eb-43cc-b2c2-0b1d916d744f button.colab-df-convert');\n",
              "        buttonEl.style.display =\n",
              "          google.colab.kernel.accessAllowed ? 'block' : 'none';\n",
              "\n",
              "        async function convertToInteractive(key) {\n",
              "          const element = document.querySelector('#df-c6dca762-a7eb-43cc-b2c2-0b1d916d744f');\n",
              "          const dataTable =\n",
              "            await google.colab.kernel.invokeFunction('convertToInteractive',\n",
              "                                                     [key], {});\n",
              "          if (!dataTable) return;\n",
              "\n",
              "          const docLinkHtml = 'Like what you see? Visit the ' +\n",
              "            '<a target=\"_blank\" href=https://colab.research.google.com/notebooks/data_table.ipynb>data table notebook</a>'\n",
              "            + ' to learn more about interactive tables.';\n",
              "          element.innerHTML = '';\n",
              "          dataTable['output_type'] = 'display_data';\n",
              "          await google.colab.output.renderOutput(dataTable, element);\n",
              "          const docLink = document.createElement('div');\n",
              "          docLink.innerHTML = docLinkHtml;\n",
              "          element.appendChild(docLink);\n",
              "        }\n",
              "      </script>\n",
              "    </div>\n",
              "  </div>\n",
              "  "
            ]
          },
          "metadata": {},
          "execution_count": 1
        }
      ],
      "source": [
        "####Selecting the best structure\n",
        "\n",
        "\n",
        "import pandas as pd\n",
        "import matplotlib.pyplot as plt\n",
        "import numpy as np\n",
        "import scipy.stats as stats\n",
        "from sklearn.preprocessing import StandardScaler \n",
        "from sklearn.preprocessing import Normalizer\n",
        "from sklearn.neural_network import MLPRegressor\n",
        "from sklearn.metrics import mean_squared_error\n",
        "from sklearn.metrics import classification_report,confusion_matrix\n",
        "from sklearn.metrics import plot_confusion_matrix\n",
        "import statistics\n",
        "from datetime import datetime\n",
        "\n",
        "\n",
        "\n",
        "\n",
        "facebook=pd.read_csv(\"Facebook.csv\")\n",
        "apple=pd.read_csv(\"Apple.csv\")\n",
        "amazon=pd.read_csv(\"Amazon.csv\")\n",
        "netflix=pd.read_csv(\"Netflix.csv\")\n",
        "google=pd.read_csv(\"Google.csv\")\n",
        "\n",
        "\n",
        "### replacing missing values\n",
        "mean = facebook['Open'].mean()\n",
        "facebook['Open'].fillna(mean, inplace=True)\n",
        "mean = facebook['High'].mean()\n",
        "facebook['High'].fillna(mean, inplace=True)\n",
        "mean = facebook['Low'].mean()\n",
        "facebook['Low'].fillna(mean, inplace=True)\n",
        "mean = facebook['Close'].mean()\n",
        "facebook['Close'].fillna(mean, inplace=True)\n",
        "mean = facebook['Adj Close'].mean()\n",
        "facebook['Adj Close'].fillna(mean, inplace=True)\n",
        "mean = facebook['Volume'].mean()\n",
        "facebook['Volume'].fillna(mean, inplace=True)\n",
        "\n",
        "mean = apple['Open'].mean()\n",
        "apple['Open'].fillna(mean, inplace=True)\n",
        "mean = apple['High'].mean()\n",
        "apple['High'].fillna(mean, inplace=True)\n",
        "mean = apple['Low'].mean()\n",
        "apple['Low'].fillna(mean, inplace=True)\n",
        "mean = apple['Close'].mean()\n",
        "apple['Close'].fillna(mean, inplace=True)\n",
        "mean = apple['Adj Close'].mean()\n",
        "apple['Adj Close'].fillna(mean, inplace=True)\n",
        "mean = apple['Volume'].mean()\n",
        "apple['Volume'].fillna(mean, inplace=True)\n",
        "\n",
        "mean = amazon['Open'].mean()\n",
        "amazon['Open'].fillna(mean, inplace=True)\n",
        "mean = amazon['High'].mean()\n",
        "amazon['High'].fillna(mean, inplace=True)\n",
        "mean = amazon['Low'].mean()\n",
        "amazon['Low'].fillna(mean, inplace=True)\n",
        "mean = amazon['Close'].mean()\n",
        "amazon['Close'].fillna(mean, inplace=True)\n",
        "mean = amazon['Adj Close'].mean()\n",
        "amazon['Adj Close'].fillna(mean, inplace=True)\n",
        "mean = amazon['Volume'].mean()\n",
        "amazon['Volume'].fillna(mean, inplace=True)\n",
        "\n",
        "mean = netflix['Open'].mean()\n",
        "netflix['Open'].fillna(mean, inplace=True)\n",
        "mean = netflix['High'].mean()\n",
        "netflix['High'].fillna(mean, inplace=True)\n",
        "mean = netflix['Low'].mean()\n",
        "netflix['Low'].fillna(mean, inplace=True)\n",
        "mean = netflix['Close'].mean()\n",
        "netflix['Close'].fillna(mean, inplace=True)\n",
        "mean = netflix['Adj Close'].mean()\n",
        "netflix['Adj Close'].fillna(mean, inplace=True)\n",
        "mean = netflix['Volume'].mean()\n",
        "netflix['Volume'].fillna(mean, inplace=True)\n",
        "\n",
        "mean = google['Open'].mean()\n",
        "google['Open'].fillna(mean, inplace=True)\n",
        "mean = google['High'].mean()\n",
        "google['High'].fillna(mean, inplace=True)\n",
        "mean = google['Low'].mean()\n",
        "google['Low'].fillna(mean, inplace=True)\n",
        "mean = google['Close'].mean()\n",
        "google['Close'].fillna(mean, inplace=True)\n",
        "mean = google['Adj Close'].mean()\n",
        "google['Adj Close'].fillna(mean, inplace=True)\n",
        "mean = google['Volume'].mean()\n",
        "google['Volume'].fillna(mean, inplace=True)\n",
        "\n",
        "\n",
        "facebook['Date']=facebook['Date'].astype('string')\n",
        "amazon['Date']=amazon['Date'].astype('string')\n",
        "apple['Date']=apple['Date'].astype('string')\n",
        "netflix['Date']=netflix['Date'].astype('string')\n",
        "google['Date']=google['Date'].astype('string')\n",
        "\n",
        "\n",
        "\n",
        "### changing date to timestamp\n",
        "format = \"%Y-%m-%d\"\n",
        "facebook['timestamp']=np.nan\n",
        "\n",
        "for i in facebook.index:\n",
        "  date_string = facebook.iloc[i,0]\n",
        "  date = datetime.strptime(date_string, format)\n",
        "  timestamp = int(round(date.timestamp()))\n",
        "  facebook.iloc[i,7]=timestamp\n",
        "\n",
        "facebook['Date']=facebook['timestamp']\n",
        "facebook=facebook.drop(['timestamp'],axis=1)\n",
        "facebook= facebook.rename(columns = {\"Date\":\"Timestamp\"})\n",
        "facebook.head()\n",
        "\n",
        "#####\n",
        "format = \"%Y-%m-%d\"\n",
        "amazon['timestamp']=np.nan\n",
        "\n",
        "for i in amazon.index:\n",
        "  date_string = amazon.iloc[i,0]\n",
        "  date = datetime.strptime(date_string, format)\n",
        "  timestamp = int(round(date.timestamp()))\n",
        "  amazon.iloc[i,7]=timestamp\n",
        "\n",
        "amazon['Date']=amazon['timestamp']\n",
        "amazon=amazon.drop(['timestamp'],axis=1)\n",
        "amazon= amazon.rename(columns = {\"Date\":\"Timestamp\"})\n",
        "amazon.head()\n",
        "\n",
        "format = \"%Y-%m-%d\"\n",
        "apple['timestamp']=np.nan\n",
        "\n",
        "for i in apple.index:\n",
        "  date_string = apple.iloc[i,0]\n",
        "  date = datetime.strptime(date_string, format)\n",
        "  timestamp = int(round(date.timestamp()))\n",
        "  apple.iloc[i,7]=timestamp\n",
        "\n",
        "apple['Date']=apple['timestamp']\n",
        "apple=apple.drop(['timestamp'],axis=1)\n",
        "apple= apple.rename(columns = {\"Date\":\"Timestamp\"})\n",
        "apple.head()\n",
        "\n",
        "format = \"%Y-%m-%d\"\n",
        "netflix['timestamp']=np.nan\n",
        "\n",
        "for i in netflix.index:\n",
        "  date_string = netflix.iloc[i,0]\n",
        "  date = datetime.strptime(date_string, format)\n",
        "  timestamp = int(round(date.timestamp()))\n",
        "  netflix.iloc[i,7]=timestamp\n",
        "\n",
        "netflix['Date']=netflix['timestamp']\n",
        "netflix=netflix.drop(['timestamp'],axis=1)\n",
        "netflix= netflix.rename(columns = {\"Date\":\"Timestamp\"})\n",
        "netflix.head()\n",
        "\n",
        "format = \"%Y-%m-%d\"\n",
        "google['timestamp']=np.nan\n",
        "\n",
        "for i in google.index:\n",
        "  date_string = google.iloc[i,0]\n",
        "  date = datetime.strptime(date_string, format)\n",
        "  timestamp = int(round(date.timestamp()))\n",
        "  google.iloc[i,7]=timestamp\n",
        "\n",
        "google['Date']=google['timestamp']\n",
        "google=google.drop(['timestamp'],axis=1)\n",
        "google= google.rename(columns = {\"Date\":\"Timestamp\"})\n",
        "google.head()\n",
        "\n",
        "\n",
        "\n",
        "facebook.describe()\n",
        "#####\n"
      ]
    },
    {
      "cell_type": "markdown",
      "source": [
        "# 2) Machine Learning Models Comparison"
      ],
      "metadata": {
        "id": "ZubHVblOCXUB"
      }
    },
    {
      "cell_type": "code",
      "source": [
        "import operator\n",
        "\n",
        "import numpy as np\n",
        "import matplotlib.pyplot as plt\n",
        "\n",
        "from sklearn.linear_model import LinearRegression\n",
        "from sklearn.metrics import mean_squared_error, r2_score\n",
        "from sklearn.preprocessing import PolynomialFeatures\n",
        "from sklearn.model_selection import train_test_split\n",
        "import random\n",
        "from random import sample\n",
        "import seaborn as sns\n",
        "from sklearn.preprocessing import StandardScaler\n",
        "from sklearn.preprocessing import Normalizer\n",
        "\n",
        "#samples=[fixationX['start timestamp [ns]'],fixationX[['start timestamp [ns]',''end timestamp [ns]'']]]\n",
        "predictors=[facebook.iloc[:,[0,6]],facebook.iloc[:,[1,6]],facebook.iloc[:,[2,6]],facebook.iloc[:,[3,6]],facebook.iloc[:,[4,6]],facebook.iloc[:,[5,6]],facebook.iloc[:,[0,1,6]],facebook.iloc[:,[0,2,6]],facebook.iloc[:,[0,4,6]],facebook.iloc[:,[0,5,6]],facebook.iloc[:,[0,3,6]],facebook.iloc[:,[0,1,2,6]],facebook.iloc[:,[0,1,3,6]],facebook.iloc[:,[0,1,4,6]] ,facebook.iloc[:,[0,1,5,6]],facebook.iloc[:,[0,1,2,3,6]],facebook.iloc[:,[0,1,2,4,6]],facebook.iloc[:,[0,1,2,5,6]],facebook.iloc[:,[0,1,2,3,4,6]],facebook.iloc[:,[0,1,2,3,5,6]],facebook.iloc[:,[0,1,2,3,4,5,6]]]\n",
        "results_fb=pd.DataFrame(columns=[['Predictors','LR','Adjusted R2','ANN','Difference']])\n",
        "results_fb['Predictors']=[1,2,3,4,5,6,7,8,9,10,11,12,13,14,15,16,17,18,19,20,21]\n",
        "\n",
        "for i in range(21):\n",
        "  \n",
        "  #sampling\n",
        "  ##selecting the sample that is supposed to have missing values\n",
        "  fixationX_sample=predictors[i]\n",
        "\n",
        "  ##Plot the distribution of sample with missing values\n",
        "  #y=fixationX['fixation x [px]'].to_numpy()\n",
        "  #y=y.reshape(-1,1)\n",
        "  #ploting the distribution\n",
        "  #axes=sns.distplot(y)\n",
        "  #plt.title('Missing values size = {}')\n",
        "  #plt.show()\n",
        "\n",
        "  ######training the models\n",
        "  ###Linear Regression\n",
        "  y=fixationX_sample['Volume']\n",
        "  X=fixationX_sample.drop(columns=\"Volume\")\n",
        "\n",
        "  X_train, X_test, y_train, y_test = train_test_split(\n",
        "  X, y, test_size=0.3, random_state=0)\n",
        "  sc= Normalizer()\n",
        "  X_train = sc.fit_transform(X_train)\n",
        "  X_test = sc.fit_transform(X_test)\n",
        "\n",
        "  model_lr = LinearRegression()\n",
        "\n",
        "  model_lr.fit(X_train,y_train)\n",
        "\n",
        "  #print the model parameters\n",
        "  #print(\"Inercept : \",model_lr.intercept_)\n",
        "  #print(\"Slope : \",model_lr.coef_)\n",
        "\n",
        "  #evaluate the model\n",
        "  y_pred_test = model_lr.predict(X_test)\n",
        "  y_pred_train = model_lr.predict(X_train)\n",
        "\n",
        "  #testing performance\n",
        "\n",
        "  rmse_test=np.sqrt(mean_squared_error(y_test,y_pred_test))\n",
        "  rmse_training=np.sqrt(mean_squared_error(y_train,y_pred_train))\n",
        "  correlation=LinearRegression()\n",
        "  correlation=correlation.fit(X,y)\n",
        "  r2= correlation.score(X,y)\n",
        "  adj_r2=1 - (1-r2)*(len(y)-1)/(len(y)-X_test.shape[1]-1)\n",
        "  \n",
        "  results_fb.iloc[i,1]=rmse_test\n",
        "  results_fb.iloc[i,2]=adj_r2\n",
        "  #testing performance graph\n",
        "\n",
        "  #activation = [\"identity\",\"logistic\",\"tanh\",\"relu\"]\n",
        "  #solver=[\"lbfgs\",\"sgd\",\"adam\"]\n",
        "  #results=pd.DataFrame(columns=['Activation Function','Loss Function','Training RMSE','Testing RMSE','Difference'])\n",
        "\n",
        "  ###ANN\n",
        "  model_ann=MLPRegressor(activation='logistic',solver='lbfgs')\n",
        "  Fixation_position= model_ann.fit(X_train,y_train)\n",
        "  y_pred =Fixation_position.predict(X_test)\n",
        "  y_pred_train =Fixation_position.predict(X_train)\n",
        "\n",
        "  #print(classifier.predict(X_test))\n",
        "  #rmse_test = np.sqrt(mean_squared_error(y_test,y_pred))\n",
        "  rmse_test=np.sqrt(mean_squared_error(y_test,y_pred))\n",
        "  rmse_training=np.sqrt(mean_squared_error(y_train,y_pred_train))\n",
        "  results_fb.iloc[i,3]=rmse_test\n",
        "  results_fb.iloc[i,4]=results_fb.iloc[i,1]-results_fb.iloc[i,3]\n",
        "#results[\"Difference\"]=results[\"LR\"]-results[\"ANN\"]\n",
        "print(results_fb)\n"
      ],
      "metadata": {
        "colab": {
          "base_uri": "https://localhost:8080/"
        },
        "id": "qVFBCfwmna2d",
        "outputId": "2f2b1e8e-72b3-42c8-db97-0863887af622"
      },
      "execution_count": null,
      "outputs": [
        {
          "output_type": "stream",
          "name": "stdout",
          "text": [
            "   Predictors               LR Adjusted R2              ANN      Difference\n",
            "0           1  25013485.725567    0.205146  25013485.724458        0.001109\n",
            "1           2  25013485.725567    0.203172  25013485.724492        0.001075\n",
            "2           3  25013485.725567    0.198937  25013485.723941        0.001626\n",
            "3           4  25013485.725567    0.208402   25013485.72385        0.001717\n",
            "4           5  25013485.725567    0.203928  25013485.724361        0.001206\n",
            "5           6  25013485.725567    0.203928   25013485.72448        0.001087\n",
            "6           7  20759663.415061    0.207017  25013485.724354 -4253822.309293\n",
            "7           8  20839385.741639     0.20547  25013485.725936 -4174099.984297\n",
            "8           9  20782531.606526    0.207349  25013485.724499 -4230954.117973\n",
            "9          10  20782531.606526    0.207349  25013485.724441 -4230954.117915\n",
            "10         11  20673247.480787    0.209912  25013485.539773 -4340238.058986\n",
            "11         12  20352155.534017    0.257708  25013485.724362 -4661330.190346\n",
            "12         13  19747301.555981    0.269216  25013485.723689 -5266184.167708\n",
            "13         14  20858963.093119    0.207442  25013485.724366 -4154522.631246\n",
            "14         15  20858963.093119    0.207442  25013485.775075 -4154522.681956\n",
            "15         16  18581938.547026    0.371594  25013485.723945  -6431547.17692\n",
            "16         17  20128006.009277    0.323957   25013486.98403 -4885480.974753\n",
            "17         18  20128006.009277    0.323957  25013485.724048 -4885479.714771\n",
            "18         19  18811215.703711     0.37131  25013485.723873 -6202270.020162\n",
            "19         20  18811215.703711     0.37131  25013485.834406 -6202270.130695\n",
            "20         21  18803520.608571    0.371006  25013485.724398 -6209965.115827\n"
          ]
        }
      ]
    },
    {
      "cell_type": "code",
      "source": [
        "results_fb.drop(columns=['Adjusted R2']).plot(kind='bar',figsize=(15,8))\n",
        "plt.xlabel(\"Predictors Set\")\n",
        "plt.ylabel(\"RMSE\")\n",
        "plt.show()"
      ],
      "metadata": {
        "colab": {
          "base_uri": "https://localhost:8080/",
          "height": 566
        },
        "id": "XNPOV25-xova",
        "outputId": "aee85d83-cac0-4243-c8dc-6ed3c622d5cf"
      },
      "execution_count": null,
      "outputs": [
        {
          "output_type": "stream",
          "name": "stderr",
          "text": [
            "/usr/local/lib/python3.7/dist-packages/pandas/core/generic.py:4150: PerformanceWarning: dropping on a non-lexsorted multi-index without a level parameter may impact performance.\n",
            "  obj = obj._drop_axis(labels, axis, level=level, errors=errors)\n"
          ]
        },
        {
          "output_type": "display_data",
          "data": {
            "text/plain": [
              "<Figure size 1080x576 with 1 Axes>"
            ],
            "image/png": "[encoded data removed]"
          },
          "metadata": {
            "needs_background": "light"
          }
        }
      ]
    },
    {
      "cell_type": "code",
      "source": [
        "import operator\n",
        "\n",
        "import numpy as np\n",
        "import matplotlib.pyplot as plt\n",
        "\n",
        "from sklearn.linear_model import LinearRegression\n",
        "from sklearn.metrics import mean_squared_error, r2_score\n",
        "from sklearn.preprocessing import PolynomialFeatures\n",
        "from sklearn.model_selection import train_test_split\n",
        "import random\n",
        "from random import sample\n",
        "import seaborn as sns\n",
        "from sklearn.preprocessing import StandardScaler\n",
        "from sklearn.preprocessing import Normalizer\n",
        "\n",
        "\n",
        "predictors=[apple.iloc[:,[0,6]],apple.iloc[:,[1,6]],apple.iloc[:,[2,6]],apple.iloc[:,[3,6]],apple.iloc[:,[4,6]],apple.iloc[:,[5,6]],apple.iloc[:,[0,1,6]],apple.iloc[:,[0,2,6]],apple.iloc[:,[0,4,6]],apple.iloc[:,[0,5,6]],apple.iloc[:,[0,3,6]],apple.iloc[:,[0,1,2,6]],apple.iloc[:,[0,1,3,6]],apple.iloc[:,[0,1,4,6]] ,apple.iloc[:,[0,1,5,6]],apple.iloc[:,[0,1,2,3,6]],apple.iloc[:,[0,1,2,4,6]],apple.iloc[:,[0,1,2,5,6]],apple.iloc[:,[0,1,2,3,4,6]],apple.iloc[:,[0,1,2,3,5,6]],apple.iloc[:,[0,1,2,3,4,5,6]]]\n",
        "results_ap=pd.DataFrame(columns=[['Predictors','LR','Adjusted R2','ANN','Difference']])\n",
        "results_ap['Predictors']=[1,2,3,4,5,6,7,8,9,10,11,12,13,14,15,16,17,18,19,20,21]\n",
        "\n",
        "for i in range(21):\n",
        "  \n",
        "  #sampling\n",
        "  ##selecting the sample that is supposed to have missing values\n",
        "  fixationX_sample=predictors[i]\n",
        "\n",
        "\n",
        "  ######training the models\n",
        "  ###Linear Regression\n",
        "  y=fixationX_sample['Volume']\n",
        "  X=fixationX_sample.drop(columns=\"Volume\")\n",
        "\n",
        "  X_train, X_test, y_train, y_test = train_test_split(\n",
        "  X, y, test_size=0.3, random_state=0)\n",
        "  sc= Normalizer()\n",
        "  X_train = sc.fit_transform(X_train)\n",
        "  X_test = sc.fit_transform(X_test)\n",
        "\n",
        "  model_lr = LinearRegression()\n",
        "\n",
        "  model_lr.fit(X_train,y_train)\n",
        "\n",
        "  #print the model parameters\n",
        "  #print(\"Inercept : \",model_lr.intercept_)\n",
        "  #print(\"Slope : \",model_lr.coef_)\n",
        "\n",
        "  #evaluate the model\n",
        "  y_pred_test = model_lr.predict(X_test)\n",
        "  y_pred_train = model_lr.predict(X_train)\n",
        "\n",
        "  #testing performance\n",
        "\n",
        "  rmse_test=np.sqrt(mean_squared_error(y_test,y_pred_test))\n",
        "  rmse_training=np.sqrt(mean_squared_error(y_train,y_pred_train))\n",
        "  correlation=LinearRegression()\n",
        "  correlation=correlation.fit(X,y)\n",
        "  r2= correlation.score(X,y)\n",
        "  adj_r2=1 - (1-r2)*(len(y)-1)/(len(y)-X_test.shape[1]-1)\n",
        "  \n",
        "  results_ap.iloc[i,1]=rmse_test\n",
        "  results_ap.iloc[i,2]=adj_r2\n",
        "\n",
        "\n",
        "  ###ANN\n",
        "  model_ann=MLPRegressor(activation='logistic',solver='lbfgs')\n",
        "  Fixation_position= model_ann.fit(X_train,y_train)\n",
        "  y_pred =Fixation_position.predict(X_test)\n",
        "  y_pred_train =Fixation_position.predict(X_train)\n",
        "\n",
        "\n",
        "  rmse_test=np.sqrt(mean_squared_error(y_test,y_pred))\n",
        "  rmse_training=np.sqrt(mean_squared_error(y_train,y_pred_train))\n",
        "  results_ap.iloc[i,3]=rmse_test\n",
        "  results_ap.iloc[i,4]=results_ap.iloc[i,1]-results_ap.iloc[i,3]\n",
        "\n",
        "print(results_ap)\n"
      ],
      "metadata": {
        "colab": {
          "base_uri": "https://localhost:8080/"
        },
        "id": "tTac5-1c7aXx",
        "outputId": "b04c8a7c-0118-4431-868f-34a1082c90ba"
      },
      "execution_count": null,
      "outputs": [
        {
          "output_type": "stream",
          "name": "stdout",
          "text": [
            "   Predictors                LR Adjusted R2               ANN       Difference\n",
            "0           1  365426966.749129    0.055001  365426967.521353        -0.772224\n",
            "1           2  365426966.749129    0.020118  365426967.292504        -0.543375\n",
            "2           3  365426966.749129    0.019844  365426966.748309         0.000821\n",
            "3           4  365426966.749129    0.020557  365426965.280291         1.468839\n",
            "4           5  365426966.749129    0.020198   365426966.40656          0.34257\n",
            "5           6  365426966.749129    0.022305  365426966.336153         0.412976\n",
            "6           7  361767486.125179    0.250719  365426967.006946  -3659480.881768\n",
            "7           8  362212960.050295    0.249052  365426966.748525   -3214006.69823\n",
            "8           9  361774820.732941    0.250669  365426967.260156  -3652146.527215\n",
            "9          10  360827006.278821    0.245865  365426966.748544  -4599960.469723\n",
            "10         11  361704079.235466    0.252723  365426966.748359  -3722887.512893\n",
            "11         12  360208667.427163    0.262791  365426967.949847  -5218300.522684\n",
            "12         13  357382295.723791    0.269448  365426968.850232  -8044673.126441\n",
            "13         14  361682364.025483    0.250652  365426966.748533   -3744602.72305\n",
            "14         15  356155309.799727    0.259119  365426964.339448  -9271654.539721\n",
            "15         16  351762033.737574    0.290591  365426966.624759 -13664932.887185\n",
            "16         17  356893211.456382    0.274657  365426966.748564  -8533755.292182\n",
            "17         18  349283856.469681    0.265206  365426966.682533 -16143110.212853\n",
            "18         19  352735563.162974    0.291046  365426966.748623 -12691403.585649\n",
            "19         20  345465039.033806    0.297439  365426969.836956  -19961930.80315\n",
            "20         21  344829051.789036    0.297377  365426966.748589 -20597914.959553\n"
          ]
        }
      ]
    },
    {
      "cell_type": "code",
      "source": [
        "results_ap.drop(columns=['Adjusted R2']).plot(kind='bar',figsize=(15,8))\n",
        "plt.xlabel(\"Predictors Set\")\n",
        "plt.ylabel(\"RMSE\")\n",
        "plt.show()"
      ],
      "metadata": {
        "colab": {
          "base_uri": "https://localhost:8080/",
          "height": 566
        },
        "id": "r27v_Jog8KhO",
        "outputId": "077c64e9-eb37-4d04-ffa2-c4e71439efef"
      },
      "execution_count": null,
      "outputs": [
        {
          "output_type": "stream",
          "name": "stderr",
          "text": [
            "/usr/local/lib/python3.7/dist-packages/pandas/core/generic.py:4150: PerformanceWarning: dropping on a non-lexsorted multi-index without a level parameter may impact performance.\n",
            "  obj = obj._drop_axis(labels, axis, level=level, errors=errors)\n"
          ]
        },
        {
          "output_type": "display_data",
          "data": {
            "text/plain": [
              "<Figure size 1080x576 with 1 Axes>"
            ],
            "image/png": "[encoded data removed]"
          },
          "metadata": {
            "needs_background": "light"
          }
        }
      ]
    },
    {
      "cell_type": "code",
      "source": [
        "import operator\n",
        "\n",
        "import numpy as np\n",
        "import matplotlib.pyplot as plt\n",
        "\n",
        "from sklearn.linear_model import LinearRegression\n",
        "from sklearn.metrics import mean_squared_error, r2_score\n",
        "from sklearn.preprocessing import PolynomialFeatures\n",
        "from sklearn.model_selection import train_test_split\n",
        "import random\n",
        "from random import sample\n",
        "import seaborn as sns\n",
        "from sklearn.preprocessing import StandardScaler\n",
        "from sklearn.preprocessing import Normalizer\n",
        "\n",
        "\n",
        "predictors=[amazon.iloc[:,[0,6]],amazon.iloc[:,[1,6]],amazon.iloc[:,[2,6]],amazon.iloc[:,[3,6]],amazon.iloc[:,[4,6]],amazon.iloc[:,[5,6]],amazon.iloc[:,[0,1,6]],amazon.iloc[:,[0,2,6]],apple.iloc[:,[0,4,6]],amazon.iloc[:,[0,5,6]],amazon.iloc[:,[0,3,6]],amazon.iloc[:,[0,1,2,6]],amazon.iloc[:,[0,1,3,6]],apple.iloc[:,[0,1,4,6]] ,amazon.iloc[:,[0,1,5,6]],amazon.iloc[:,[0,1,2,3,6]],amazon.iloc[:,[0,1,2,4,6]],amazon.iloc[:,[0,1,2,5,6]],amazon.iloc[:,[0,1,2,3,4,6]],amazon.iloc[:,[0,1,2,3,5,6]],amazon.iloc[:,[0,1,2,3,4,5,6]]]\n",
        "results_am=pd.DataFrame(columns=[['Predictors','LR','Adjusted R2','ANN','Difference']])\n",
        "results_am['Predictors']=[1,2,3,4,5,6,7,8,9,10,11,12,13,14,15,16,17,18,19,20,21]\n",
        "\n",
        "for i in range(21):\n",
        "  \n",
        " \n",
        "  fixationX_sample=predictors[i]\n",
        "\n",
        "\n",
        "\n",
        "  ######training the models\n",
        "  ###Linear Regression\n",
        "  y=fixationX_sample['Volume']\n",
        "  X=fixationX_sample.drop(columns=\"Volume\")\n",
        "\n",
        "  X_train, X_test, y_train, y_test = train_test_split(\n",
        "  X, y, test_size=0.3, random_state=0)\n",
        "  sc= Normalizer()\n",
        "  X_train = sc.fit_transform(X_train)\n",
        "  X_test = sc.fit_transform(X_test)\n",
        "\n",
        "  model_lr = LinearRegression()\n",
        "\n",
        "  model_lr.fit(X_train,y_train)\n",
        "\n",
        "\n",
        "\n",
        "  #evaluate the model\n",
        "  y_pred_test = model_lr.predict(X_test)\n",
        "  y_pred_train = model_lr.predict(X_train)\n",
        "\n",
        "  #testing performance\n",
        "\n",
        "  rmse_test=np.sqrt(mean_squared_error(y_test,y_pred_test))\n",
        "  rmse_training=np.sqrt(mean_squared_error(y_train,y_pred_train))\n",
        "  correlation=LinearRegression()\n",
        "  correlation=correlation.fit(X,y)\n",
        "  r2= correlation.score(X,y)\n",
        "  adj_r2=1 - (1-r2)*(len(y)-1)/(len(y)-X_test.shape[1]-1)\n",
        "  \n",
        "  results_am.iloc[i,1]=rmse_test\n",
        "  results_am.iloc[i,2]=adj_r2\n",
        "\n",
        "\n",
        "  \n",
        "  ###ANN\n",
        "  model_ann=MLPRegressor(activation='logistic',solver='lbfgs')\n",
        "  Fixation_position= model_ann.fit(X_train,y_train)\n",
        "  y_pred =Fixation_position.predict(X_test)\n",
        "  y_pred_train =Fixation_position.predict(X_train)\n",
        "\n",
        "\n",
        "  rmse_test=np.sqrt(mean_squared_error(y_test,y_pred))\n",
        "  rmse_training=np.sqrt(mean_squared_error(y_train,y_pred_train))\n",
        "  results_am.iloc[i,3]=rmse_test\n",
        "  results_am.iloc[i,4]=results_am.iloc[i,1]-results_am.iloc[i,3]\n",
        "\n",
        "print(results_am)\n"
      ],
      "metadata": {
        "colab": {
          "base_uri": "https://localhost:8080/"
        },
        "id": "dn5i38878en6",
        "outputId": "30c1cd81-1347-4b46-e9c4-fa3692a2b3c3"
      },
      "execution_count": null,
      "outputs": [
        {
          "output_type": "stream",
          "name": "stdout",
          "text": [
            "   Predictors                LR Adjusted R2               ANN      Difference\n",
            "0           1    7481744.952147    0.161472    7481744.952176        -0.00003\n",
            "1           2    7481744.952147    0.054264    7481744.952164       -0.000017\n",
            "2           3    7481744.952147    0.053486    7481744.951967         0.00018\n",
            "3           4    7481744.952147    0.055036    7481744.952177        -0.00003\n",
            "4           5    7481744.952147    0.054217    7481744.952181       -0.000035\n",
            "5           6    7481744.952147    0.054217    7481744.952165       -0.000019\n",
            "6           7    7119305.885832    0.172889    7481744.952174  -362439.066341\n",
            "7           8    7126418.965514    0.173337    7481744.947756  -355325.982241\n",
            "8           9  361774820.732941    0.250669  365426966.269324 -3652145.536383\n",
            "9          10    7121543.522116    0.172933    7481744.885513  -360201.363398\n",
            "10         11    7113932.705091    0.172474    7481744.942905  -367812.237814\n",
            "11         12    7054343.685324    0.183498    7481744.952174  -427401.266851\n",
            "12         13    7074257.635549    0.180426    7481744.950841  -407487.315292\n",
            "13         14  361682364.025483    0.250652  365426966.748524 -3744602.723042\n",
            "14         15    7119901.967618    0.172819    7481744.987305  -361843.019687\n",
            "15         16    6966658.411579    0.196818    7481744.941682  -515086.530103\n",
            "16         17    6996015.672158    0.192025    7481744.952163  -485729.280005\n",
            "17         18    6996015.672158    0.192025    7481744.952147   -485729.27999\n",
            "18         19     6967085.27478    0.196681    7481744.952168  -514659.677387\n",
            "19         20     6967085.27478    0.196681    7481744.949625  -514659.674844\n",
            "20         21    6967347.447704    0.196543     7481744.95332  -514397.505617\n"
          ]
        }
      ]
    },
    {
      "cell_type": "code",
      "source": [
        "results_am.drop(columns=['Adjusted R2']).plot(kind='bar',figsize=(15,8))\n",
        "plt.xlabel(\"Predictors Set\")\n",
        "plt.ylabel(\"RMSE\")\n",
        "plt.show()"
      ],
      "metadata": {
        "colab": {
          "base_uri": "https://localhost:8080/",
          "height": 566
        },
        "id": "8K1fdsOB9Iir",
        "outputId": "b0d2acda-eb2d-4e29-937b-4cab21967765"
      },
      "execution_count": null,
      "outputs": [
        {
          "output_type": "stream",
          "name": "stderr",
          "text": [
            "/usr/local/lib/python3.7/dist-packages/pandas/core/generic.py:4150: PerformanceWarning: dropping on a non-lexsorted multi-index without a level parameter may impact performance.\n",
            "  obj = obj._drop_axis(labels, axis, level=level, errors=errors)\n"
          ]
        },
        {
          "output_type": "display_data",
          "data": {
            "text/plain": [
              "<Figure size 1080x576 with 1 Axes>"
            ],
            "image/png": "[encoded data removed]"
          },
          "metadata": {
            "needs_background": "light"
          }
        }
      ]
    },
    {
      "cell_type": "code",
      "source": [
        "import operator\n",
        "\n",
        "import numpy as np\n",
        "import matplotlib.pyplot as plt\n",
        "\n",
        "from sklearn.linear_model import LinearRegression\n",
        "from sklearn.metrics import mean_squared_error, r2_score\n",
        "from sklearn.preprocessing import PolynomialFeatures\n",
        "from sklearn.model_selection import train_test_split\n",
        "import random\n",
        "from random import sample\n",
        "import seaborn as sns\n",
        "from sklearn.preprocessing import StandardScaler\n",
        "from sklearn.preprocessing import Normalizer\n",
        "\n",
        "\n",
        "predictors=[netflix.iloc[:,[0,6]],netflix.iloc[:,[1,6]],netflix.iloc[:,[2,6]],netflix.iloc[:,[3,6]],netflix.iloc[:,[4,6]],netflix.iloc[:,[5,6]],netflix.iloc[:,[0,1,6]],netflix.iloc[:,[0,2,6]],netflix.iloc[:,[0,4,6]],netflix.iloc[:,[0,5,6]],netflix.iloc[:,[0,3,6]],netflix.iloc[:,[0,1,2,6]],netflix.iloc[:,[0,1,3,6]],netflix.iloc[:,[0,1,4,6]] ,netflix.iloc[:,[0,1,5,6]],netflix.iloc[:,[0,1,2,3,6]],netflix.iloc[:,[0,1,2,4,6]],netflix.iloc[:,[0,1,2,5,6]],netflix.iloc[:,[0,1,2,3,4,6]],netflix.iloc[:,[0,1,2,3,5,6]],netflix.iloc[:,[0,1,2,3,4,5,6]]]\n",
        "results_nt=pd.DataFrame(columns=[['Predictors','LR','Adjusted R2','ANN','Difference']])\n",
        "results_nt['Predictors']=[1,2,3,4,5,6,7,8,9,10,11,12,13,14,15,16,17,18,19,20,21]\n",
        "\n",
        "for i in range(21):\n",
        "  \n",
        "  #sampling\n",
        "  ##selecting the sample that is supposed to have missing values\n",
        "  fixationX_sample=predictors[i]\n",
        "\n",
        " \n",
        "\n",
        "  ######training the models\n",
        "  ###Linear Regression\n",
        "  y=fixationX_sample['Volume']\n",
        "  X=fixationX_sample.drop(columns=\"Volume\")\n",
        "\n",
        "  X_train, X_test, y_train, y_test = train_test_split(\n",
        "  X, y, test_size=0.3, random_state=0)\n",
        "  sc= Normalizer()\n",
        "  X_train = sc.fit_transform(X_train)\n",
        "  X_test = sc.fit_transform(X_test)\n",
        "\n",
        "  model_lr = LinearRegression()\n",
        "\n",
        "  model_lr.fit(X_train,y_train)\n",
        "\n",
        "\n",
        "\n",
        "  #evaluate the model\n",
        "  y_pred_test = model_lr.predict(X_test)\n",
        "  y_pred_train = model_lr.predict(X_train)\n",
        "\n",
        "  #testing performance\n",
        "\n",
        "  rmse_test=np.sqrt(mean_squared_error(y_test,y_pred_test))\n",
        "  rmse_training=np.sqrt(mean_squared_error(y_train,y_pred_train))\n",
        "  correlation=LinearRegression()\n",
        "  correlation=correlation.fit(X,y)\n",
        "  r2= correlation.score(X,y)\n",
        "  adj_r2=1 - (1-r2)*(len(y)-1)/(len(y)-X_test.shape[1]-1)\n",
        "  \n",
        "  results_nt.iloc[i,1]=rmse_test\n",
        "  results_nt.iloc[i,2]=adj_r2\n",
        "  #testing performance graph\n",
        "\n",
        "  \n",
        "  ###ANN\n",
        "  model_ann=MLPRegressor(activation='logistic',solver='lbfgs')\n",
        "  Fixation_position= model_ann.fit(X_train,y_train)\n",
        "  y_pred =Fixation_position.predict(X_test)\n",
        "  y_pred_train =Fixation_position.predict(X_train)\n",
        "\n",
        "  #print(classifier.predict(X_test))\n",
        "  #rmse_test = np.sqrt(mean_squared_error(y_test,y_pred))\n",
        "  rmse_test=np.sqrt(mean_squared_error(y_test,y_pred))\n",
        "  rmse_training=np.sqrt(mean_squared_error(y_train,y_pred_train))\n",
        "  results_nt.iloc[i,3]=rmse_test\n",
        "  results_nt.iloc[i,4]=results_nt.iloc[i,1]-results_nt.iloc[i,3]\n",
        "#results[\"Difference\"]=results[\"LR\"]-results[\"ANN\"]\n",
        "print(results_nt)\n"
      ],
      "metadata": {
        "colab": {
          "base_uri": "https://localhost:8080/"
        },
        "id": "tYd2Xfu89aBq",
        "outputId": "e0cb3f15-61ca-4791-badf-8a76f073bcbf"
      },
      "execution_count": null,
      "outputs": [
        {
          "output_type": "stream",
          "name": "stdout",
          "text": [
            "   Predictors               LR Adjusted R2              ANN     Difference\n",
            "0           1  16814114.050993    0.000591  16814114.050532       0.000461\n",
            "1           2  16814114.050993    0.037336  16814114.050517       0.000475\n",
            "2           3  16814114.050993    0.036695  16814114.050254       0.000739\n",
            "3           4  16814114.050993    0.038002   16814114.01084       0.040153\n",
            "4           5  16814114.050993    0.037298   16814114.05052       0.000473\n",
            "5           6  16814114.050993    0.037298  16814114.050568       0.000425\n",
            "6           7  16455950.779186    0.079803  16814114.050304 -358163.271118\n",
            "7           8  16461373.594547    0.078211   16814113.74802 -352740.153474\n",
            "8           9  16455491.564184    0.079724  16814114.050559 -358622.486376\n",
            "9          10  16455491.564184    0.079724  16814114.075775 -358622.511591\n",
            "10         11    16448690.5431    0.081519  16814114.050292 -365423.507192\n",
            "11         12  16370457.044024    0.088188  16814114.040354  -443656.99633\n",
            "12         13  16368358.800975    0.090402  16814114.050286 -445755.249312\n",
            "13         14  16457789.107084     0.07961  16814114.050239 -356324.943154\n",
            "14         15  16457789.107084     0.07961  16814114.050504  -356324.94342\n",
            "15         16  16202298.883339    0.108819  16814114.050325 -611815.166986\n",
            "16         17  16265899.563524    0.099006   16814114.05029 -548214.486766\n",
            "17         18  16265899.563524    0.099006  16814114.050552 -548214.487029\n",
            "18         19  16203099.159336    0.108628  16814114.050165 -611014.890829\n",
            "19         20  16203099.159336    0.108628  16814114.050206  -611014.89087\n",
            "20         21  16203012.146193    0.108434  16814114.051242 -611101.905049\n"
          ]
        }
      ]
    },
    {
      "cell_type": "code",
      "source": [
        "results_nt.drop(columns=['Adjusted R2']).plot(kind='bar',figsize=(15,8))\n",
        "plt.xlabel(\"Predictors Set\")\n",
        "plt.ylabel(\"RMSE\")\n",
        "plt.show()"
      ],
      "metadata": {
        "colab": {
          "base_uri": "https://localhost:8080/",
          "height": 566
        },
        "id": "NAXmn74e-g-A",
        "outputId": "4ed9ab09-526e-49a8-f58d-d7063b59de23"
      },
      "execution_count": null,
      "outputs": [
        {
          "output_type": "stream",
          "name": "stderr",
          "text": [
            "/usr/local/lib/python3.7/dist-packages/pandas/core/generic.py:4150: PerformanceWarning: dropping on a non-lexsorted multi-index without a level parameter may impact performance.\n",
            "  obj = obj._drop_axis(labels, axis, level=level, errors=errors)\n"
          ]
        },
        {
          "output_type": "display_data",
          "data": {
            "text/plain": [
              "<Figure size 1080x576 with 1 Axes>"
            ],
            "image/png": "[encoded data removed]"
          },
          "metadata": {
            "needs_background": "light"
          }
        }
      ]
    },
    {
      "cell_type": "code",
      "source": [
        "import operator\n",
        "\n",
        "import numpy as np\n",
        "import matplotlib.pyplot as plt\n",
        "\n",
        "from sklearn.linear_model import LinearRegression\n",
        "from sklearn.metrics import mean_squared_error, r2_score\n",
        "from sklearn.preprocessing import PolynomialFeatures\n",
        "from sklearn.model_selection import train_test_split\n",
        "import random\n",
        "from random import sample\n",
        "import seaborn as sns\n",
        "from sklearn.preprocessing import StandardScaler\n",
        "from sklearn.preprocessing import Normalizer\n",
        "\n",
        "\n",
        "predictors=[google.iloc[:,[0,6]],google.iloc[:,[1,6]],google.iloc[:,[2,6]],google.iloc[:,[3,6]],google.iloc[:,[4,6]],google.iloc[:,[5,6]],google.iloc[:,[0,1,6]],google.iloc[:,[0,2,6]],google.iloc[:,[0,4,6]],google.iloc[:,[0,5,6]],google.iloc[:,[0,3,6]],google.iloc[:,[0,1,2,6]],google.iloc[:,[0,1,3,6]],google.iloc[:,[0,1,4,6]] ,google.iloc[:,[0,1,5,6]],google.iloc[:,[0,1,2,3,6]],google.iloc[:,[0,1,2,4,6]],google.iloc[:,[0,1,2,5,6]],google.iloc[:,[0,1,2,3,4,6]],google.iloc[:,[0,1,2,3,5,6]],google.iloc[:,[0,1,2,3,4,5,6]]]\n",
        "results_gg=pd.DataFrame(columns=[['Predictors','LR','Adjusted R2','ANN','Difference']])\n",
        "results_gg['Predictors']=[1,2,3,4,5,6,7,8,9,10,11,12,13,14,15,16,17,18,19,20,21]\n",
        "\n",
        "for i in range(21):\n",
        "  \n",
        "  #sampling\n",
        "  ##selecting the sample that is supposed to have missing values\n",
        "  fixationX_sample=predictors[i]\n",
        "\n",
        "  \n",
        "\n",
        "  ######training the models\n",
        "  ###Linear Regression\n",
        "  y=fixationX_sample['Volume']\n",
        "  X=fixationX_sample.drop(columns=\"Volume\")\n",
        "\n",
        "  X_train, X_test, y_train, y_test = train_test_split(\n",
        "  X, y, test_size=0.3, random_state=0)\n",
        "  sc= Normalizer()\n",
        "  X_train = sc.fit_transform(X_train)\n",
        "  X_test = sc.fit_transform(X_test)\n",
        "\n",
        "  model_lr = LinearRegression()\n",
        "\n",
        "  model_lr.fit(X_train,y_train)\n",
        "\n",
        "  #print the model parameters\n",
        "  #print(\"Inercept : \",model_lr.intercept_)\n",
        "  #print(\"Slope : \",model_lr.coef_)\n",
        "\n",
        "  #evaluate the model\n",
        "  y_pred_test = model_lr.predict(X_test)\n",
        "  y_pred_train = model_lr.predict(X_train)\n",
        "\n",
        "  #testing performance\n",
        "\n",
        "  rmse_test=np.sqrt(mean_squared_error(y_test,y_pred_test))\n",
        "  rmse_training=np.sqrt(mean_squared_error(y_train,y_pred_train))\n",
        "  correlation=LinearRegression()\n",
        "  correlation=correlation.fit(X,y)\n",
        "  r2= correlation.score(X,y)\n",
        "  adj_r2=1 - (1-r2)*(len(y)-1)/(len(y)-X_test.shape[1]-1)\n",
        "  \n",
        "  results_gg.iloc[i,1]=rmse_test\n",
        "  results_gg.iloc[i,2]=adj_r2\n",
        "  #testing performance graph\n",
        "\n",
        "  #activation = [\"identity\",\"logistic\",\"tanh\",\"relu\"]\n",
        "  #solver=[\"lbfgs\",\"sgd\",\"adam\"]\n",
        "  #results=pd.DataFrame(columns=['Activation Function','Loss Function','Training RMSE','Testing RMSE','Difference'])\n",
        "\n",
        "  ###ANN\n",
        "  model_ann=MLPRegressor(activation='logistic',solver='lbfgs')\n",
        "  Fixation_position= model_ann.fit(X_train,y_train)\n",
        "  y_pred =Fixation_position.predict(X_test)\n",
        "  y_pred_train =Fixation_position.predict(X_train)\n",
        "\n",
        "  #print(classifier.predict(X_test))\n",
        "  #rmse_test = np.sqrt(mean_squared_error(y_test,y_pred))\n",
        "  rmse_test=np.sqrt(mean_squared_error(y_test,y_pred))\n",
        "  rmse_training=np.sqrt(mean_squared_error(y_train,y_pred_train))\n",
        "  results_gg.iloc[i,3]=rmse_test\n",
        "  results_gg.iloc[i,4]=results_gg.iloc[i,1]-results_gg.iloc[i,3]\n",
        "#results[\"Difference\"]=results[\"LR\"]-results[\"ANN\"]\n",
        "print(results_gg)\n"
      ],
      "metadata": {
        "colab": {
          "base_uri": "https://localhost:8080/"
        },
        "id": "EFlSwvaN-pMW",
        "outputId": "371ff8b8-dec3-4c62-bb86-9d34d4bc268d"
      },
      "execution_count": null,
      "outputs": [
        {
          "output_type": "stream",
          "name": "stdout",
          "text": [
            "   Predictors              LR Adjusted R2             ANN      Difference\n",
            "0           1  7591923.273462    0.470547  7591923.273589       -0.000126\n",
            "1           2  7591923.273462    0.288561  7591923.273459        0.000003\n",
            "2           3  7591923.273462    0.286707  7591923.273459        0.000003\n",
            "3           4  7591923.273462    0.290955  7591923.273459        0.000003\n",
            "4           5  7591923.273462     0.28882  7591923.273459        0.000003\n",
            "5           6  7591923.273462     0.28882  7591923.273459        0.000003\n",
            "6           7  5642719.579488    0.535903  7591923.273457 -1949203.693969\n",
            "7           8  5664270.769719    0.537584  7591923.273457 -1927652.503738\n",
            "8           9  5648500.377995    0.535379  7591923.274399 -1943422.896404\n",
            "9          10  5648500.377995    0.535379  7591923.273459 -1943422.895465\n",
            "10         11  5630423.115842     0.53339  7591923.273459 -1961500.157617\n",
            "11         12  5602825.772541    0.543754  7591923.273459 -1989097.500917\n",
            "12         13  5608728.020525    0.546519  7591923.273459 -1983195.252934\n",
            "13         14  5653863.303483    0.535884  7591923.273461 -1938059.969978\n",
            "14         15  5653863.303483    0.535884  7591923.273457 -1938059.969974\n",
            "15         16  5530399.148347    0.561077  7591923.273459 -2061524.125112\n",
            "16         17  5551702.048354    0.553529  7591923.273459 -2040221.225105\n",
            "17         18  5551702.048354    0.553529  7591923.273459 -2040221.225105\n",
            "18         19  5533001.114661    0.561002  7591923.273459 -2058922.158798\n",
            "19         20  5533001.114661    0.561002  7591923.273458 -2058922.158797\n",
            "20         21  5533041.321291    0.560893  7591923.273457 -2058881.952166\n"
          ]
        }
      ]
    },
    {
      "cell_type": "code",
      "source": [
        "results_gg.drop(columns=['Adjusted R2']).plot(kind='bar',figsize=(15,8))\n",
        "plt.xlabel(\"Predictors Set\")\n",
        "plt.ylabel(\"RMSE\")\n",
        "plt.show()"
      ],
      "metadata": {
        "colab": {
          "base_uri": "https://localhost:8080/",
          "height": 566
        },
        "id": "R-7jxOiD_RiV",
        "outputId": "2e1600ed-a737-48c4-b73e-25bb60fc8ba2"
      },
      "execution_count": null,
      "outputs": [
        {
          "output_type": "stream",
          "name": "stderr",
          "text": [
            "/usr/local/lib/python3.7/dist-packages/pandas/core/generic.py:4150: PerformanceWarning: dropping on a non-lexsorted multi-index without a level parameter may impact performance.\n",
            "  obj = obj._drop_axis(labels, axis, level=level, errors=errors)\n"
          ]
        },
        {
          "output_type": "display_data",
          "data": {
            "text/plain": [
              "<Figure size 1080x576 with 1 Axes>"
            ],
            "image/png": "[encoded data removed]"
          },
          "metadata": {
            "needs_background": "light"
          }
        }
      ]
    },
    {
      "cell_type": "code",
      "source": [
        "from matplotlib.pylab import title\n",
        "from scipy.stats import shapiro\n",
        "from scipy.stats import kstest\n",
        "import matplotlib.gridspec as gridspec\n",
        "\n",
        "import seaborn as sns\n",
        "\n",
        "import scipy.stats as stats\n",
        "import statsmodels.api as sm\n",
        "import pylab as py\n",
        "\n",
        "fig, axes = plt.subplots()\n",
        "gs = gridspec.GridSpec(2, 3, figure=fig)\n",
        "ax1 = fig.add_subplot(gs[0, 0])\n",
        "ax2 = fig.add_subplot(gs[0, 1])\n",
        "ax3 = fig.add_subplot(gs[1, 0])\n",
        "ax4 = fig.add_subplot(gs[1, 1])\n",
        "ax5 = fig.add_subplot(gs[1, 2])\n",
        "\n",
        "sns.distplot(results_fb['LR'],ax=ax1).set(title=\"Facebook\")\n",
        "sns.distplot(results_am['LR'],ax=ax2).set(title=\"Amazon\")\n",
        "sns.distplot(results_ap['LR'],ax=ax3).set(title=\"Apple\")\n",
        "sns.distplot(results_nt['LR'],ax=ax4).set(title=\"Netflix\")\n",
        "sns.distplot(results_gg['LR'],ax=ax5).set(title=\"Google\")\n",
        "fig.set_figheight(7)\n",
        "fig.set_figwidth(10)\n",
        "\n",
        "plt.subplots_adjust(left=0.05,\n",
        "                    bottom=0.1, \n",
        "                    right=0.9, \n",
        "                    top=0.9, \n",
        "                    wspace=0.25, \n",
        "                    hspace=0.3)\n"
      ],
      "metadata": {
        "colab": {
          "base_uri": "https://localhost:8080/",
          "height": 674
        },
        "id": "l5bSBApfx5au",
        "outputId": "03a5a784-3638-47c6-9856-fc8dbb8a715b"
      },
      "execution_count": null,
      "outputs": [
        {
          "output_type": "stream",
          "name": "stderr",
          "text": [
            "/usr/local/lib/python3.7/dist-packages/seaborn/distributions.py:2619: FutureWarning: `distplot` is a deprecated function and will be removed in a future version. Please adapt your code to use either `displot` (a figure-level function with similar flexibility) or `histplot` (an axes-level function for histograms).\n",
            "  warnings.warn(msg, FutureWarning)\n",
            "/usr/local/lib/python3.7/dist-packages/seaborn/distributions.py:2619: FutureWarning: `distplot` is a deprecated function and will be removed in a future version. Please adapt your code to use either `displot` (a figure-level function with similar flexibility) or `histplot` (an axes-level function for histograms).\n",
            "  warnings.warn(msg, FutureWarning)\n",
            "/usr/local/lib/python3.7/dist-packages/seaborn/distributions.py:2619: FutureWarning: `distplot` is a deprecated function and will be removed in a future version. Please adapt your code to use either `displot` (a figure-level function with similar flexibility) or `histplot` (an axes-level function for histograms).\n",
            "  warnings.warn(msg, FutureWarning)\n",
            "/usr/local/lib/python3.7/dist-packages/seaborn/distributions.py:2619: FutureWarning: `distplot` is a deprecated function and will be removed in a future version. Please adapt your code to use either `displot` (a figure-level function with similar flexibility) or `histplot` (an axes-level function for histograms).\n",
            "  warnings.warn(msg, FutureWarning)\n",
            "/usr/local/lib/python3.7/dist-packages/seaborn/distributions.py:2619: FutureWarning: `distplot` is a deprecated function and will be removed in a future version. Please adapt your code to use either `displot` (a figure-level function with similar flexibility) or `histplot` (an axes-level function for histograms).\n",
            "  warnings.warn(msg, FutureWarning)\n"
          ]
        },
        {
          "output_type": "display_data",
          "data": {
            "text/plain": [
              "<Figure size 720x504 with 6 Axes>"
            ],
            "image/png": "[encoded data removed]"
          },
          "metadata": {
            "needs_background": "light"
          }
        }
      ]
    },
    {
      "cell_type": "code",
      "source": [
        "#perform Kolmogorov-Smirnov test\n",
        "\n",
        "\n",
        "normality=pd.DataFrame(columns=['Dataset','S-W statistic','S-W p-value','K-S statistic','K-S p-value'])\n",
        "normality['Dataset']=['Facebook','Apple','Amazon','Netflix','Google']\n",
        "\n",
        "\n",
        "\n",
        "#s1,p1=shapiro(results_fix['LR'])\n",
        "s2,p2=shapiro(results_fb['LR'])\n",
        "s3,p3=shapiro(results_ap['LR'])\n",
        "s4,p4=shapiro(results_am['LR'])\n",
        "s5,p5=shapiro(results_nt['LR'])\n",
        "s6,p6=shapiro(results_gg['LR'])\n",
        "\n",
        "\n",
        "normality['S-W statistic']=[s2,s3,s4,s5,s6]\n",
        "normality['S-W p-value']=[p2,p3,p4,p5,p6]\n",
        "\n",
        "#fix=results_fix['LR'].values.tolist()\n",
        "fb=results_fb['LR'].values.tolist()\n",
        "ap=results_ap['LR'].values.tolist()\n",
        "am=results_am['LR'].values.tolist()\n",
        "nt=results_nt['LR'].values.tolist()\n",
        "gg=results_gg['LR'].values.tolist()\n",
        "\n",
        "#s1,p1=kstest(fix, 'norm')\n",
        "s2,p2=kstest(fb, 'norm')\n",
        "s3,p3=kstest(ap, 'norm')\n",
        "s4,p4=kstest(am, 'norm')\n",
        "s5,p5=kstest(nt, 'norm')\n",
        "s6,p6=kstest(gg, 'norm')\n",
        "\n",
        "normality['K-S statistic']=[s2,s3,s4,s5,s6]\n",
        "normality['K-S p-value']=[p2,p3,p4,p5,p6]\n",
        "\n",
        "print(normality)\n"
      ],
      "metadata": {
        "colab": {
          "base_uri": "https://localhost:8080/"
        },
        "id": "CRLOadB1x_N9",
        "outputId": "ca1b5ea7-6ad3-4a24-8189-ae5a077bc547"
      },
      "execution_count": null,
      "outputs": [
        {
          "output_type": "stream",
          "name": "stdout",
          "text": [
            "    Dataset  S-W statistic   S-W p-value  K-S statistic  K-S p-value\n",
            "0  Facebook       0.793274  5.186996e-04            1.0          0.0\n",
            "1     Apple       0.861477  6.740484e-03            1.0          0.0\n",
            "2    Amazon       0.342994  9.668195e-09            1.0          0.0\n",
            "3   Netflix       0.829275  1.905736e-03            1.0          0.0\n",
            "4    Google       0.610108  2.522764e-06            1.0          0.0\n"
          ]
        }
      ]
    },
    {
      "cell_type": "code",
      "source": [
        "from matplotlib.pylab import title\n",
        "from scipy.stats import shapiro\n",
        "from scipy.stats import kstest\n",
        "import matplotlib.gridspec as gridspec\n",
        "\n",
        "import seaborn as sns\n",
        "\n",
        "import scipy.stats as stats\n",
        "import statsmodels.api as sm\n",
        "import pylab as py\n",
        "\n",
        "fig, axes = plt.subplots()\n",
        "gs = gridspec.GridSpec(2, 3, figure=fig)\n",
        "ax1 = fig.add_subplot(gs[0, 0])\n",
        "ax2 = fig.add_subplot(gs[0, 1])\n",
        "ax3 = fig.add_subplot(gs[1, 0])\n",
        "ax4 = fig.add_subplot(gs[1, 1])\n",
        "ax5 = fig.add_subplot(gs[1, 2])\n",
        "\n",
        "sns.distplot(results_fb['ANN'],ax=ax1).set(title=\"Facebook\")\n",
        "sns.distplot(results_am['ANN'],ax=ax2).set(title=\"Amazon\")\n",
        "sns.distplot(results_ap['ANN'],ax=ax3).set(title=\"Apple\")\n",
        "sns.distplot(results_nt['ANN'],ax=ax4).set(title=\"Netflix\")\n",
        "sns.distplot(results_gg['ANN'],ax=ax5).set(title=\"Google\")\n",
        "fig.set_figheight(7)\n",
        "fig.set_figwidth(10)\n",
        "\n",
        "plt.subplots_adjust(left=0.05,\n",
        "                    bottom=0.1, \n",
        "                    right=0.9, \n",
        "                    top=0.9, \n",
        "                    wspace=0.25, \n",
        "                    hspace=0.3)\n"
      ],
      "metadata": {
        "colab": {
          "base_uri": "https://localhost:8080/",
          "height": 674
        },
        "id": "OxqNvFJKbEQ1",
        "outputId": "490a64e0-05a8-4ef3-b7e0-775b98b6356c"
      },
      "execution_count": null,
      "outputs": [
        {
          "output_type": "stream",
          "name": "stderr",
          "text": [
            "/usr/local/lib/python3.7/dist-packages/seaborn/distributions.py:2619: FutureWarning: `distplot` is a deprecated function and will be removed in a future version. Please adapt your code to use either `displot` (a figure-level function with similar flexibility) or `histplot` (an axes-level function for histograms).\n",
            "  warnings.warn(msg, FutureWarning)\n",
            "/usr/local/lib/python3.7/dist-packages/seaborn/distributions.py:2619: FutureWarning: `distplot` is a deprecated function and will be removed in a future version. Please adapt your code to use either `displot` (a figure-level function with similar flexibility) or `histplot` (an axes-level function for histograms).\n",
            "  warnings.warn(msg, FutureWarning)\n",
            "/usr/local/lib/python3.7/dist-packages/seaborn/distributions.py:2619: FutureWarning: `distplot` is a deprecated function and will be removed in a future version. Please adapt your code to use either `displot` (a figure-level function with similar flexibility) or `histplot` (an axes-level function for histograms).\n",
            "  warnings.warn(msg, FutureWarning)\n",
            "/usr/local/lib/python3.7/dist-packages/seaborn/distributions.py:2619: FutureWarning: `distplot` is a deprecated function and will be removed in a future version. Please adapt your code to use either `displot` (a figure-level function with similar flexibility) or `histplot` (an axes-level function for histograms).\n",
            "  warnings.warn(msg, FutureWarning)\n",
            "/usr/local/lib/python3.7/dist-packages/seaborn/distributions.py:2619: FutureWarning: `distplot` is a deprecated function and will be removed in a future version. Please adapt your code to use either `displot` (a figure-level function with similar flexibility) or `histplot` (an axes-level function for histograms).\n",
            "  warnings.warn(msg, FutureWarning)\n"
          ]
        },
        {
          "output_type": "display_data",
          "data": {
            "text/plain": [
              "<Figure size 720x504 with 6 Axes>"
            ],
            "image/png": "[encoded data removed]"
          },
          "metadata": {
            "needs_background": "light"
          }
        }
      ]
    },
    {
      "cell_type": "code",
      "source": [
        "#perform Kolmogorov-Smirnov test\n",
        "\n",
        "s1,p1=shapiro(results_fix['ANN'])\n",
        "s2,p2=shapiro(results_fb['ANN'])\n",
        "s3,p3=shapiro(results_ap['ANN'])\n",
        "s4,p4=shapiro(results_am['ANN'])\n",
        "s5,p5=shapiro(results_nt['ANN'])\n",
        "s6,p6=shapiro(results_gg['ANN'])\n",
        "\n",
        "normality=pd.DataFrame()\n",
        "normality['Dataset']=['Facebook','Apple','Amazon','Netflix','Google']\n",
        "normality['S-W statistic']=[s2,s3,s4,s5,s6]\n",
        "normality['S-W p-value']=[p2,p3,p4,p5,p6]\n",
        "\n",
        "#fix=results_fix['ANN'].values.tolist()\n",
        "fb=results_fb['ANN'].values.tolist()\n",
        "ap=results_ap['ANN'].values.tolist()\n",
        "am=results_am['ANN'].values.tolist()\n",
        "nt=results_nt['ANN'].values.tolist()\n",
        "gg=results_gg['ANN'].values.tolist()\n",
        "\n",
        "#s1,p1=kstest(fix, 'norm')\n",
        "s2,p2=kstest(fb, 'norm')\n",
        "s3,p3=kstest(ap, 'norm')\n",
        "s4,p4=kstest(am, 'norm')\n",
        "s5,p5=kstest(nt, 'norm')\n",
        "s6,p6=kstest(gg, 'norm')\n",
        "\n",
        "normality['K-S statistic']=[s2,s3,s4,s5,s6]\n",
        "normality['K-S p-value']=[p2,p3,p4,p5,p6]\n",
        "\n",
        "print(normality)\n"
      ],
      "metadata": {
        "colab": {
          "base_uri": "https://localhost:8080/"
        },
        "id": "n3oFY5X5MgRp",
        "outputId": "7d7cb0ed-5c1d-4d49-fb58-c3639326dd4f"
      },
      "execution_count": null,
      "outputs": [
        {
          "output_type": "stream",
          "name": "stdout",
          "text": [
            "    Dataset  S-W statistic   S-W p-value  K-S statistic  K-S p-value\n",
            "0  Facebook       1.000000  1.000000e+00            1.0          0.0\n",
            "1     Apple       1.000000  1.000000e+00            1.0          0.0\n",
            "2    Amazon       0.341407  9.398970e-09            1.0          0.0\n",
            "3   Netflix       1.000000  1.000000e+00            1.0          0.0\n",
            "4    Google       1.000000  1.000000e+00            1.0          0.0\n"
          ]
        },
        {
          "output_type": "stream",
          "name": "stderr",
          "text": [
            "/usr/local/lib/python3.7/dist-packages/scipy/stats/morestats.py:1757: UserWarning: Input data for shapiro has range zero. The results may not be accurate.\n",
            "  warnings.warn(\"Input data for shapiro has range zero. The results \"\n"
          ]
        }
      ]
    },
    {
      "cell_type": "code",
      "source": [
        "lr=pd.DataFrame()\n",
        "#lr['fix']=results_fix.iloc[0:6,1]\n",
        "lr['fb']=results_fb.iloc[10:16,1]\n",
        "lr['ap']=results_ap.iloc[10:16,1]\n",
        "lr['am']=results_am.iloc[10:16,1]\n",
        "lr['nt']=results_nt.iloc[10:16,1]\n",
        "lr['gg']=results_gg.iloc[10:16,1]\n",
        "ann=pd.DataFrame()\n",
        "#ann['fix']=results_fix.iloc[0:6,3]\n",
        "ann['fb']=results_fb.iloc[10:16,3]\n",
        "ann['ap']=results_ap.iloc[10:16,3]\n",
        "ann['am']=results_am.iloc[10:16,3]\n",
        "ann['nt']=results_nt.iloc[10:16,3]\n",
        "ann['gg']=results_gg.iloc[10:16,3]\n",
        "\n",
        "\n",
        "\n",
        "wilcoxon_test=pd.DataFrame(columns=['Dataset','Wilcoxon statistic','p-value'])\n",
        "dataset=['Facebook','Apple','Amazon','Netflix','Google']\n",
        "for i in range(5):\n",
        "  s1=lr.iloc[:,i].values.flatten()\n",
        "  s2=ann.iloc[:,i].values.flatten()\n",
        "  s,p=stats.wilcoxon(s1,s2)\n",
        "  wilcoxon_test=wilcoxon_test.append({'Dataset':dataset[i],'Wilcoxon statistic':s,'p-value':p},ignore_index=True)\n",
        "print(wilcoxon_test)\n"
      ],
      "metadata": {
        "colab": {
          "base_uri": "https://localhost:8080/"
        },
        "id": "S_neaMNLWh3_",
        "outputId": "77ea9d8c-ea7c-46e5-a585-a63a333be8a9"
      },
      "execution_count": null,
      "outputs": [
        {
          "output_type": "stream",
          "name": "stdout",
          "text": [
            "    Dataset  Wilcoxon statistic  p-value\n",
            "0  Facebook                 0.0  0.03125\n",
            "1     Apple                 0.0  0.03125\n",
            "2    Amazon                 0.0  0.03125\n",
            "3   Netflix                 0.0  0.03125\n",
            "4    Google                 0.0  0.03125\n"
          ]
        }
      ]
    },
    {
      "cell_type": "code",
      "source": [
        "###multicomparison\n",
        "friedman_test=pd.DataFrame(columns=['Model','Friedman statistic','p-value'])\n",
        "\n",
        "statistic,pvalue=stats.friedmanchisquare(lr['fb'],lr['ap'],lr['am'],lr['nt'],lr['gg'])\n",
        "friedman_test=friedman_test.append({'Model':'LR in all datasets','Friedman statistic':statistic,'p-value':pvalue},ignore_index=True)\n",
        "\n",
        "\n",
        "statistic,pvalue=stats.friedmanchisquare(ann['fb'],ann['ap'],ann['am'],ann['nt'],ann['gg'])\n",
        "friedman_test=friedman_test.append({'Model':'ANN in all datasets','Friedman statistic':statistic,'p-value':pvalue},ignore_index=True)\n",
        "\n",
        "\n",
        "print(friedman_test)\n"
      ],
      "metadata": {
        "colab": {
          "base_uri": "https://localhost:8080/"
        },
        "id": "idWBty_xfI15",
        "outputId": "5b7adae9-585a-4402-8bb6-de602cdd14c9"
      },
      "execution_count": null,
      "outputs": [
        {
          "output_type": "stream",
          "name": "stdout",
          "text": [
            "                 Model  Friedman statistic   p-value\n",
            "0   LR in all datasets           21.142857  0.000297\n",
            "1  ANN in all datasets           20.000000  0.000499\n"
          ]
        }
      ]
    }
  ]
}